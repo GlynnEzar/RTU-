{
 "cells": [
  {
   "cell_type": "code",
   "execution_count": 4,
   "metadata": {
    "collapsed": true
   },
   "outputs": [],
   "source": [
    "import pandas as pd\n",
    "\n",
    "xl_file = pd.ExcelFile('C:\\\\Users\\\\talwe\\\\OneDrive\\\\Desktop\\\\Linworth.xlsx')\n",
    "dfs = {sheet_name: xl_file.parse(sheet_name) \n",
    "          for sheet_name in xl_file.sheet_names}"
   ]
  },
  {
   "cell_type": "code",
   "execution_count": 6,
   "metadata": {},
   "outputs": [
    {
     "ename": "KeyError",
     "evalue": "'Analog Inputs'",
     "output_type": "error",
     "traceback": [
      "\u001b[1;31m---------------------------------------------------------------------------\u001b[0m",
      "\u001b[1;31mKeyError\u001b[0m                                  Traceback (most recent call last)",
      "\u001b[1;32m<ipython-input-6-eb0055fcf30c>\u001b[0m in \u001b[0;36m<module>\u001b[1;34m()\u001b[0m\n\u001b[1;32m----> 1\u001b[1;33m \u001b[0manalogs\u001b[0m \u001b[1;33m=\u001b[0m \u001b[0mdfs\u001b[0m\u001b[1;33m[\u001b[0m\u001b[1;34m'Analog Inputs'\u001b[0m\u001b[1;33m]\u001b[0m\u001b[1;33m[\u001b[0m\u001b[1;34m'Unnamed: 2'\u001b[0m\u001b[1;33m]\u001b[0m\u001b[1;33m[\u001b[0m\u001b[1;36m270\u001b[0m\u001b[1;33m:\u001b[0m\u001b[1;36m281\u001b[0m\u001b[1;33m]\u001b[0m\u001b[1;33m\u001b[0m\u001b[0m\n\u001b[0m\u001b[0;32m      2\u001b[0m \u001b[0manalogs\u001b[0m\u001b[1;33m\u001b[0m\u001b[0m\n\u001b[0;32m      3\u001b[0m \u001b[1;32mwith\u001b[0m \u001b[0mpd\u001b[0m\u001b[1;33m.\u001b[0m\u001b[0moption_context\u001b[0m\u001b[1;33m(\u001b[0m\u001b[1;34m'display.max_rows'\u001b[0m\u001b[1;33m,\u001b[0m \u001b[1;32mNone\u001b[0m\u001b[1;33m,\u001b[0m \u001b[1;34m'display.max_columns'\u001b[0m\u001b[1;33m,\u001b[0m \u001b[1;32mNone\u001b[0m\u001b[1;33m)\u001b[0m\u001b[1;33m:\u001b[0m\u001b[1;33m\u001b[0m\u001b[0m\n\u001b[0;32m      4\u001b[0m  \u001b[0mprint\u001b[0m\u001b[1;33m(\u001b[0m\u001b[0manalogs\u001b[0m\u001b[1;33m)\u001b[0m\u001b[1;33m\u001b[0m\u001b[0m\n\u001b[0;32m      5\u001b[0m  \u001b[1;32mfor\u001b[0m \u001b[0mname\u001b[0m \u001b[1;32min\u001b[0m \u001b[0manalogs\u001b[0m\u001b[1;33m:\u001b[0m\u001b[1;33m\u001b[0m\u001b[0m\n",
      "\u001b[1;31mKeyError\u001b[0m: 'Analog Inputs'"
     ]
    }
   ],
   "source": [
    "analogs = dfs['Analog Inputs']['Unnamed: 2'][270:281]\n",
    "analogs\n",
    "with pd.option_context('display.max_rows', None, 'display.max_columns', None):\n",
    " print(analogs)\n",
    " for name in analogs:\n",
    "    parts = name.split()\n",
    "    #separator =','\n",
    "    #signal_name = print(separator.join(parts)[1:])"
   ]
  },
  {
   "cell_type": "code",
   "execution_count": 84,
   "metadata": {},
   "outputs": [
    {
     "ename": "SyntaxError",
     "evalue": "invalid syntax (<ipython-input-84-da45ac885af5>, line 5)",
     "output_type": "error",
     "traceback": [
      "\u001b[1;36m  File \u001b[1;32m\"<ipython-input-84-da45ac885af5>\"\u001b[1;36m, line \u001b[1;32m5\u001b[0m\n\u001b[1;33m    \" \"from 55100_AI0-REG_F4801A Load (Sec) Volts to FR4801.REG.0.A.V.LD.SEC.A ''\u001b[0m\n\u001b[1;37m          ^\u001b[0m\n\u001b[1;31mSyntaxError\u001b[0m\u001b[1;31m:\u001b[0m invalid syntax\n"
     ]
    }
   ],
   "source": [
    "#for REGULATOR\n",
    "#Signals are per phase\n",
    "# Ph dictionary needed but can't be same as Meters\n",
    "# create a signal dictionary\n",
    "# 55100_AI0-REG_F4801A Load (Sec) Volts to FR4801.REG.0.A.V.LD.SEC.A "
   ]
  },
  {
   "cell_type": "code",
   "execution_count": 77,
   "metadata": {
    "collapsed": true
   },
   "outputs": [],
   "source": [
    "#ToDo: Other case variants\n",
    "phases_ = {'Ph-a':'A', 'Ph-b':'B','Ph-c':'C', '3-ph':'3PH', 'Ph-an':'AN', 'Ph-bn':'BN', 'Ph-cn':'CN', 'Neutral':'N', 'Ph-A':'A', 'Ph-B':'B','Ph-C':'C'}\n",
    "units_ = {'Amps':'I', 'kV':'V', 'V':'V','MW':'P', 'KW':'P', 'MVar':'Q', 'MVAR':'Q', 'Mvar':'Q', 'KVAR':'Q','Kvar':'Q', 'sec':'V'}\n",
    "devicetype_start_ = {'CB':'MTR', 'XF':'MTR','LVM':'LVM', 'REG':'REG', 'CAP':'CAP'}\n",
    "f_num ={'5017':'4801', '5018':'4802','5019':'4803','5020':'4804','5021':'4805','5022':'4806','5023':'4807','5024':'4808'}\n",
    "reg_signals_= {'(Sec)':'SEC', '(sec)':'SEC', 'Load':'LD','Comp':'COMP', 'Regulation':'IHB', 'regulation':'IHB', 'Supervisory':'SUP','Auto/Manual Man':'MAN', 'Neutral Position': 'NEU',\n",
    "              'ARL AltCfg State' : 'ARL', 'Auto/Manual-Off': 'OFF', 'Auto/Manual-Sw': 'AUTO', 'Auto/Manual-SW': 'AUTO', }"
   ]
  },
  {
   "cell_type": "code",
   "execution_count": 8,
   "metadata": {
    "collapsed": true
   },
   "outputs": [],
   "source": [
    "import re"
   ]
  },
  {
   "cell_type": "code",
   "execution_count": 47,
   "metadata": {},
   "outputs": [
    {
     "ename": "SyntaxError",
     "evalue": "invalid syntax (<ipython-input-47-61a861eba64b>, line 11)",
     "output_type": "error",
     "traceback": [
      "\u001b[1;36m  File \u001b[1;32m\"<ipython-input-47-61a861eba64b>\"\u001b[1;36m, line \u001b[1;32m11\u001b[0m\n\u001b[1;33m    feeder = 'F'+\u001b[0m\n\u001b[1;37m         ^\u001b[0m\n\u001b[1;31mSyntaxError\u001b[0m\u001b[1;31m:\u001b[0m invalid syntax\n"
     ]
    }
   ],
   "source": [
    "rtu_lvm = []\n",
    "for name in analogs:\n",
    "    parts = name.split()\n",
    "    \n",
    "    #unit = units_[parts[-1]]\n",
    "    #phase = phases_[parts[-2]]\n",
    "    \n",
    "    if parts[-1] == '(sec)': \n",
    "        unit = units_[parts[-2]]\n",
    "        phase = phases_[parts[-3]\n",
    "        feeder = 'F'+ \n",
    "        devicetype = (re.sub('[^a-zA-Z]+', '', s)[2:5])\n",
    "            \n",
    "    else:\n",
    "         unit = units_[parts[-1]]\n",
    "         phase = phases_[parts[-2]]\n",
    "         feeder = 'F'+ \n",
    "         devicetype = (re.sub('[^a-zA-Z]+', '', s)[2:5])\n",
    "                         \n",
    "rtu_lvm.append(feeder+ '.' + devicetype + '.'+'0'+'.'+'unit'+'phase')"
   ]
  },
  {
   "cell_type": "code",
   "execution_count": null,
   "metadata": {
    "collapsed": true
   },
   "outputs": [],
   "source": [
    "rtu_lvm"
   ]
  },
  {
   "cell_type": "code",
   "execution_count": 100,
   "metadata": {},
   "outputs": [
    {
     "name": "stdout",
     "output_type": "stream",
     "text": [
      "LVM\n"
     ]
    }
   ],
   "source": [
    "s = '5024_AI11-LVM-5024'\n",
    "print (re.sub('[^a-zA-Z]+', '', s)[2:5])"
   ]
  },
  {
   "cell_type": "code",
   "execution_count": 63,
   "metadata": {},
   "outputs": [
    {
     "name": "stdout",
     "output_type": "stream",
     "text": [
      "C\n"
     ]
    }
   ],
   "source": [
    "phase = phases_[parts[-2]]\n",
    "print(phase)                "
   ]
  },
  {
   "cell_type": "code",
   "execution_count": 137,
   "metadata": {
    "collapsed": true
   },
   "outputs": [],
   "source": [
    "import re"
   ]
  },
  {
   "cell_type": "code",
   "execution_count": 138,
   "metadata": {},
   "outputs": [
    {
     "name": "stdout",
     "output_type": "stream",
     "text": [
      "REG\n",
      "Auto/Manual-Off\n"
     ]
    }
   ],
   "source": [
    "rtu_reg =[]\n",
    "digitals = dfs['Digital Inputs (VVO)']['Unnamed: 2'][89:96]\n",
    "with pd.option_context('display.max_rows', None, 'display.max_columns', None):\n",
    " for name in digitals:\n",
    "  parts = name.split()\n",
    "devicetype = print (re.sub('[^a-zA-Z]+', '', parts[0])[2:5])\n",
    "lst = parts[1:3]\n",
    "lst_1 = \"-\".join(lst)\n",
    "print(lst_1)\n",
    "\n"
   ]
  },
  {
   "cell_type": "code",
   "execution_count": 135,
   "metadata": {},
   "outputs": [
    {
     "name": "stdout",
     "output_type": "stream",
     "text": [
      "Auto/Manual-Off\n"
     ]
    }
   ],
   "source": [
    "lst = parts[1:3]\n",
    "lst_1 = \"-\".join(lst)\n",
    "print(lst_1)"
   ]
  },
  {
   "cell_type": "code",
   "execution_count": null,
   "metadata": {
    "collapsed": true
   },
   "outputs": [],
   "source": []
  },
  {
   "cell_type": "code",
   "execution_count": null,
   "metadata": {
    "collapsed": true
   },
   "outputs": [],
   "source": []
  }
 ],
 "metadata": {
  "kernelspec": {
   "display_name": "Python 3",
   "language": "python",
   "name": "python3"
  },
  "language_info": {
   "codemirror_mode": {
    "name": "ipython",
    "version": 3
   },
   "file_extension": ".py",
   "mimetype": "text/x-python",
   "name": "python",
   "nbconvert_exporter": "python",
   "pygments_lexer": "ipython3",
   "version": "3.6.3"
  }
 },
 "nbformat": 4,
 "nbformat_minor": 2
}
