{
 "cells": [
  {
   "cell_type": "code",
   "execution_count": 99,
   "metadata": {},
   "outputs": [],
   "source": [
    "import pandas as pd\n",
    "\n",
    "xl_file = pd.ExcelFile('C:\\\\Users\\stalwelkar\\Desktop\\\\LinworthRPA.xlsx')\n",
    "dfs = {sheet_name: xl_file.parse(sheet_name) \n",
    "          for sheet_name in xl_file.sheet_names}"
   ]
  },
  {
   "cell_type": "code",
   "execution_count": 98,
   "metadata": {},
   "outputs": [
    {
     "name": "stdout",
     "output_type": "stream",
     "text": [
      "270      55100_AI0-REG_F4801A Load (Sec) Volts\n",
      "271      55100_AI1-REG_F4801A Load (Pri) Volts\n",
      "272    55100_AI4-REG_F4801A Source (Sec) Volts\n",
      "273             55100_AI3-REG_F4801A Load Amps\n",
      "274          55100_AI6-REG_F4801A Tap Position\n",
      "275        55100_AI8-REG_F4801A Power Factor %\n",
      "276              55100_AI9-REG_F4801A Load kVA\n",
      "277              55100_AI10-REG_F4801A Load kW\n",
      "278            55100_AI11-REG_F4801A Load kVAR\n",
      "279          55100_AI7-REG_F4801A Regulation %\n",
      "280      55100_AI2-REG_F4801A Comp (sec) Volts\n",
      "Name: Unnamed: 2, dtype: object\n"
     ]
    }
   ],
   "source": [
    "analogs = dfs['Analog Inputs (VVO)']['Unnamed: 2'][270:281]\n",
    "analogs\n",
    "with pd.option_context('display.max_rows', None, 'display.max_columns', None):\n",
    " print(analogs)\n",
    " for name in analogs:\n",
    "    parts = name.split()\n",
    "    #separator =','\n",
    "    #signal_name = print(separator.join(parts)[1:])"
   ]
  },
  {
   "cell_type": "code",
   "execution_count": 84,
   "metadata": {},
   "outputs": [
    {
     "ename": "SyntaxError",
     "evalue": "invalid syntax (<ipython-input-84-da45ac885af5>, line 5)",
     "output_type": "error",
     "traceback": [
      "\u001b[1;36m  File \u001b[1;32m\"<ipython-input-84-da45ac885af5>\"\u001b[1;36m, line \u001b[1;32m5\u001b[0m\n\u001b[1;33m    \" \"from 55100_AI0-REG_F4801A Load (Sec) Volts to FR4801.REG.0.A.V.LD.SEC.A ''\u001b[0m\n\u001b[1;37m          ^\u001b[0m\n\u001b[1;31mSyntaxError\u001b[0m\u001b[1;31m:\u001b[0m invalid syntax\n"
     ]
    }
   ],
   "source": [
    "#for REGULATOR\n",
    "#Signals are per phase\n",
    "# Ph dictionary needed but can't be same as Meters\n",
    "# create a signal dictionary\n",
    "# 55100_AI0-REG_F4801A Load (Sec) Volts to FR4801.REG.0.A.V.LD.SEC.A "
   ]
  },
  {
   "cell_type": "code",
   "execution_count": 76,
   "metadata": {},
   "outputs": [],
   "source": [
    "#ToDo: Other case variants\n",
    "phases_ = {'Ph-a':'A', 'Ph-b':'B','Ph-c':'C', '3-ph':'3PH', 'Ph-an':'AN', 'Ph-bn':'BN', 'Ph-cn':'CN', 'Neutral':'N', 'Ph-A':'A', 'Ph-B':'B','Ph-C':'C'}\n",
    "units_ = {'Amps':'I', 'kV':'V', 'V':'V','MW':'P', 'KW':'P', 'MVar':'Q', 'MVAR':'Q', 'Mvar':'Q', 'KVAR':'Q','Kvar':'Q', 'sec':'V'}\n",
    "devicetype_start_ = {'CB':'MTR', 'XF':'MTR','LVM':'LVM', 'REG':'REG', 'CAP':'CAP'}\n",
    "f_num ={'5017':'4801', '5018':'4802','5019':'4803','5020':'4804','5021':'4805','5022':'4806','5023':'4807','5024':'4808'}\n",
    "reg_signals_= {'(Sec)':'SEC', '(sec)':'SEC', 'Load':'LD','Comp':'COMP', 'Regulation':'IHB', 'regulation':'IHB'}"
   ]
  },
  {
   "cell_type": "code",
   "execution_count": 77,
   "metadata": {},
   "outputs": [],
   "source": [
    "import re"
   ]
  },
  {
   "cell_type": "code",
   "execution_count": 79,
   "metadata": {},
   "outputs": [
    {
     "ename": "SyntaxError",
     "evalue": "invalid syntax (<ipython-input-79-75da417fa278>, line 11)",
     "output_type": "error",
     "traceback": [
      "\u001b[1;36m  File \u001b[1;32m\"<ipython-input-79-75da417fa278>\"\u001b[1;36m, line \u001b[1;32m11\u001b[0m\n\u001b[1;33m    feeder = 'F'+' entry in f_num '\u001b[0m\n\u001b[1;37m         ^\u001b[0m\n\u001b[1;31mSyntaxError\u001b[0m\u001b[1;31m:\u001b[0m invalid syntax\n"
     ]
    }
   ],
   "source": [
    "rtu_lvm = []\n",
    "for name in analogs:\n",
    "    parts = name.split()\n",
    "    \n",
    "    #unit = units_[parts[-1]]\n",
    "    #phase = phases_[parts[-2]]\n",
    "    \n",
    "    if parts[-1] == '(sec)': \n",
    "        unit = units_[parts[-2]]\n",
    "        phase = phases_[parts[-3]\n",
    "        feeder = 'F'+ \n",
    "        devicetype = (re.sub('[^a-zA-Z]+', '', s)[2:5])\n",
    "            \n",
    "    else:\n",
    "         unit = units_[parts[-1]]\n",
    "         phase = phases_[parts[-2]]\n",
    "         feeder = 'F'+ \n",
    "         devicetype = (re.sub('[^a-zA-Z]+', '', s)[2:5])\n",
    "                         \n",
    "rtu_lvm.append(feeder+ '.' + devicetype + '.'+'0'+'.'+'unit'+'phase')"
   ]
  },
  {
   "cell_type": "code",
   "execution_count": null,
   "metadata": {},
   "outputs": [],
   "source": [
    "rtu_lvm"
   ]
  },
  {
   "cell_type": "code",
   "execution_count": 43,
   "metadata": {},
   "outputs": [],
   "source": [
    "#s = '5024_AI11-LVM-5024'\n",
    "#print (re.sub('[^a-zA-Z]+', '', s)[2:5])"
   ]
  },
  {
   "cell_type": "code",
   "execution_count": 63,
   "metadata": {},
   "outputs": [
    {
     "name": "stdout",
     "output_type": "stream",
     "text": [
      "C\n"
     ]
    }
   ],
   "source": [
    "phase = phases_[parts[-2]]\n",
    "print(phase)                "
   ]
  },
  {
   "cell_type": "code",
   "execution_count": 106,
   "metadata": {},
   "outputs": [
    {
     "name": "stdout",
     "output_type": "stream",
     "text": [
      "89     55101_DI6-REG_F4801A Regulation State\n",
      "90      55101_DI12-REG_F4801A Auto/Manual Sw\n",
      "91        55101_DI187-REG_F4801A Supervisory\n",
      "92    55101_DI11-REG_F4801A Neutral Position\n",
      "93    55101_DI20-REG_F4801A ARL AltCfg State\n",
      "94     55101_DI40-REG_F4801A Auto/Manual Man\n",
      "95     55101_DI41-REG_F4801A Auto/Manual Off\n",
      "Name: Unnamed: 2, dtype: object\n"
     ]
    }
   ],
   "source": [
    "digitals = dfs['Digital Inputs (VVO)']['Unnamed: 2'][89:96]\n",
    "with pd.option_context('display.max_rows', None, 'display.max_columns', None):\n",
    " print(digitals)"
   ]
  },
  {
   "cell_type": "code",
   "execution_count": null,
   "metadata": {},
   "outputs": [],
   "source": []
  }
 ],
 "metadata": {
  "kernelspec": {
   "display_name": "Python 3",
   "language": "python",
   "name": "python3"
  },
  "language_info": {
   "codemirror_mode": {
    "name": "ipython",
    "version": 3
   },
   "file_extension": ".py",
   "mimetype": "text/x-python",
   "name": "python",
   "nbconvert_exporter": "python",
   "pygments_lexer": "ipython3",
   "version": "3.7.0"
  }
 },
 "nbformat": 4,
 "nbformat_minor": 2
}
